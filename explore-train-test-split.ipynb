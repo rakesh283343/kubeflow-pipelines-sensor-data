{
 "cells": [
  {
   "cell_type": "code",
   "execution_count": 46,
   "metadata": {},
   "outputs": [],
   "source": [
    "#from sklearn.model_selection import train_test_split\n",
    "from sklearn.preprocessing import MinMaxScaler\n",
    "from google.cloud import storage\n",
    "import pandas as pd\n",
    "import numpy as np\n",
    "from io import StringIO"
   ]
  },
  {
   "cell_type": "code",
   "execution_count": 49,
   "metadata": {},
   "outputs": [],
   "source": [
    "def split_data(dest_bucket, dest_file, split_time, preprocess=False):\n",
    "    # Read in the data from the GCS bucket and format the data\n",
    "    data_loc = \"gs://{0}/{1}\".format(dest_bucket, dest_file)\n",
    "    data = pd.read_csv(data_loc, index_col=0)\n",
    "    #data.index.rename('time', inplace=True)\n",
    "    first_idx = data.index.values[0]\n",
    "\n",
    "    # Split the data based on the split_time param\n",
    "    data = data.sort_index()\n",
    "    train_data = data.loc[first_idx:split_time]  # Note: this is 'inclusive' so the last data point in train data\n",
    "    test_data = data.loc[split_time:]            # shows up as the first data point in the test data\n",
    "                                                 # This shouldn't be a big deal for this dataset\n",
    "    \n",
    "    # Preprocess the data (if applicable)\n",
    "    if preprocess:\n",
    "        scaler = MinMaxScaler()\n",
    "        X_train = scaler.fit_transform(train_data)\n",
    "        X_test = scaler.transform(test_data)\n",
    "    \n",
    "    else:\n",
    "        X_train = train_data.to_numpy()\n",
    "        X_test = test_data.to_numpy()\n",
    "        \n",
    "    scaled_train_data = pd.DataFrame(X_train, columns=data.columns)\n",
    "    scaled_test_data = pd.DataFrame(X_test, columns=data.columns)\n",
    "    \n",
    "    # Save the data splits off to GCS bucket\n",
    "    train_f = StringIO()\n",
    "    test_f = StringIO()\n",
    "    \n",
    "    scaled_train_data.to_csv(train_f)\n",
    "    scaled_test_data.to_csv(test_f)\n",
    "    \n",
    "    train_f.seek(0)\n",
    "    test_f.seek(0)\n",
    "    \n",
    "    train_dest_file = \"train.csv\"\n",
    "    test_dest_file = \"test.csv\"\n",
    "    \n",
    "    client = storage.Client()\n",
    "    client.get_bucket(dest_bucket).blob(train_dest_file).upload_from_file(train_f, content_type='text/csv')\n",
    "    client.get_bucket(dest_bucket).blob(test_dest_file).upload_from_file(test_f, content_type='text/csv')\n",
    "    \n",
    "    # Return the location of the new data splits\n",
    "    return (dest_bucket, train_dest_file, test_dest_file)\n",
    "    "
   ]
  },
  {
   "cell_type": "code",
   "execution_count": 50,
   "metadata": {},
   "outputs": [
    {
     "data": {
      "text/plain": [
       "('rrusson-kubeflow-test', 'train.csv', 'test.csv')"
      ]
     },
     "execution_count": 50,
     "metadata": {},
     "output_type": "execute_result"
    }
   ],
   "source": [
    "dest_bucket = \"rrusson-kubeflow-test\"\n",
    "dest_file = \"raw_data_v2.csv\"\n",
    "split_time = \"2004-02-15 12:52:39\"\n",
    "preprocess = True\n",
    "\n",
    "split_data(dest_bucket, dest_file, split_time, preprocess=preprocess)"
   ]
  },
  {
   "cell_type": "code",
   "execution_count": 62,
   "metadata": {},
   "outputs": [
    {
     "name": "stdout",
     "output_type": "stream",
     "text": [
      "file_3735.047098667\n"
     ]
    }
   ],
   "source": [
    "import time\n",
    "print(\"file_{}\".format(time.perf_counter()))"
   ]
  },
  {
   "cell_type": "code",
   "execution_count": null,
   "metadata": {},
   "outputs": [],
   "source": []
  }
 ],
 "metadata": {
  "environment": {
   "name": "tf2-gpu.2-1.m59",
   "type": "gcloud",
   "uri": "gcr.io/deeplearning-platform-release/tf2-gpu.2-1:m59"
  },
  "kernelspec": {
   "display_name": "Python 3",
   "language": "python",
   "name": "python3"
  },
  "language_info": {
   "codemirror_mode": {
    "name": "ipython",
    "version": 3
   },
   "file_extension": ".py",
   "mimetype": "text/x-python",
   "name": "python",
   "nbconvert_exporter": "python",
   "pygments_lexer": "ipython3",
   "version": "3.7.8"
  }
 },
 "nbformat": 4,
 "nbformat_minor": 4
}
