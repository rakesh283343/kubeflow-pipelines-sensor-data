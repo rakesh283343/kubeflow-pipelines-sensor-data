{
 "cells": [
  {
   "cell_type": "code",
   "execution_count": 3,
   "metadata": {},
   "outputs": [],
   "source": [
    "# import libraries\n",
    "import os\n",
    "import pandas as pd\n",
    "import numpy as np\n",
    "import seaborn as sns\n",
    "sns.set(color_codes=True)\n",
    "import matplotlib.pyplot as plt\n",
    "%matplotlib inline\n",
    "\n",
    "import tensorflow as tf\n",
    "\n",
    "from tensorflow.keras.layers import Input, Dropout, Dense, LSTM, TimeDistributed, RepeatVector\n",
    "from tensorflow.keras.models import Model\n",
    "from tensorflow.keras import regularizers\n",
    "\n",
    "from google.cloud import storage"
   ]
  },
  {
   "cell_type": "code",
   "execution_count": 20,
   "metadata": {},
   "outputs": [],
   "source": [
    "def train():\n",
    "    # Read in the data\n",
    "    bucket = 'rrusson-kubeflow-test'\n",
    "    train_file = 'train_1247.329131066.csv'\n",
    "    train_loc = \"gs://{0}/{1}\".format(bucket, train_file)\n",
    "    train_data = pd.read_csv(train_loc, index_col=0)\n",
    "    X_train = train_data.to_numpy()\n",
    "    \n",
    "    test_file = 'train_1247.329131066.csv'\n",
    "    test_loc = \"gs://{0}/{1}\".format(bucket, test_file)\n",
    "    test_data = pd.read_csv(test_loc, index_col=0)\n",
    "    X_test = test_data.to_numpy()\n",
    "    \n",
    "    # reshape inputs for LSTM [samples, timesteps, features]\n",
    "    X_train = X_train.reshape(X_train.shape[0], 1, X_train.shape[1])\n",
    "    print(\"Training data shape:\", X_train.shape)\n",
    "    X_test = X_test.reshape(X_test.shape[0], 1, X_test.shape[1])\n",
    "    print(\"Test data shape:\", X_test.shape)   \n",
    "    \n",
    "    # define the model network for the autoencoder\n",
    "    def autoencoder_model(X):\n",
    "        inputs = Input(shape=(X.shape[1], X.shape[2]))\n",
    "        L1 = LSTM(16, activation='relu', return_sequences=True, \n",
    "                  kernel_regularizer=regularizers.l2(0.00))(inputs)\n",
    "        L2 = LSTM(4, activation='relu', return_sequences=False)(L1)\n",
    "        L3 = RepeatVector(X.shape[1])(L2)\n",
    "        L4 = LSTM(4, activation='relu', return_sequences=True)(L3)\n",
    "        L5 = LSTM(16, activation='relu', return_sequences=True)(L4)\n",
    "        output = TimeDistributed(Dense(X.shape[2]))(L5)    \n",
    "        model = Model(inputs=inputs, outputs=output)\n",
    "        return model\n",
    "    \n",
    "    \n",
    "    # create the autoencoder model\n",
    "    model = autoencoder_model(X_train)\n",
    "    model.compile(optimizer='adam', loss='mae')\n",
    "    model.summary()\n",
    "    \n",
    "    # fit the model to the data\n",
    "    nb_epochs = 10\n",
    "    batch_size = 10\n",
    "    model_history = model.fit(X_train, X_train, epochs=nb_epochs, batch_size=batch_size,\n",
    "                        validation_split=0.1).history\n",
    "    \n",
    "    model.save(\"./model_v1.h5\")\n",
    "    \n",
    "    return model_history"
   ]
  },
  {
   "cell_type": "code",
   "execution_count": 21,
   "metadata": {},
   "outputs": [
    {
     "name": "stdout",
     "output_type": "stream",
     "text": [
      "Training data shape: (445, 1, 4)\n",
      "Test data shape: (445, 1, 4)\n",
      "Model: \"model_6\"\n",
      "_________________________________________________________________\n",
      "Layer (type)                 Output Shape              Param #   \n",
      "=================================================================\n",
      "input_7 (InputLayer)         [(None, 1, 4)]            0         \n",
      "_________________________________________________________________\n",
      "lstm_24 (LSTM)               (None, 1, 16)             1344      \n",
      "_________________________________________________________________\n",
      "lstm_25 (LSTM)               (None, 4)                 336       \n",
      "_________________________________________________________________\n",
      "repeat_vector_6 (RepeatVecto (None, 1, 4)              0         \n",
      "_________________________________________________________________\n",
      "lstm_26 (LSTM)               (None, 1, 4)              144       \n",
      "_________________________________________________________________\n",
      "lstm_27 (LSTM)               (None, 1, 16)             1344      \n",
      "_________________________________________________________________\n",
      "time_distributed_6 (TimeDist (None, 1, 4)              68        \n",
      "=================================================================\n",
      "Total params: 3,236\n",
      "Trainable params: 3,236\n",
      "Non-trainable params: 0\n",
      "_________________________________________________________________\n",
      "Train on 400 samples, validate on 45 samples\n",
      "Epoch 1/10\n",
      "400/400 [==============================] - 7s 18ms/sample - loss: 0.4560 - val_loss: 0.3059\n",
      "Epoch 2/10\n",
      "400/400 [==============================] - 1s 1ms/sample - loss: 0.4039 - val_loss: 0.2516\n",
      "Epoch 3/10\n",
      "400/400 [==============================] - 1s 2ms/sample - loss: 0.3389 - val_loss: 0.1880\n",
      "Epoch 4/10\n",
      "400/400 [==============================] - 1s 1ms/sample - loss: 0.2409 - val_loss: 0.1422\n",
      "Epoch 5/10\n",
      "400/400 [==============================] - 1s 2ms/sample - loss: 0.1291 - val_loss: 0.1322\n",
      "Epoch 6/10\n",
      "400/400 [==============================] - 1s 2ms/sample - loss: 0.1040 - val_loss: 0.1176\n",
      "Epoch 7/10\n",
      "400/400 [==============================] - 1s 1ms/sample - loss: 0.1011 - val_loss: 0.1149\n",
      "Epoch 8/10\n",
      "400/400 [==============================] - 1s 1ms/sample - loss: 0.1003 - val_loss: 0.1134\n",
      "Epoch 9/10\n",
      "400/400 [==============================] - 1s 2ms/sample - loss: 0.1000 - val_loss: 0.1137\n",
      "Epoch 10/10\n",
      "400/400 [==============================] - 1s 1ms/sample - loss: 0.0996 - val_loss: 0.1132\n"
     ]
    }
   ],
   "source": [
    "model_history = train()"
   ]
  },
  {
   "cell_type": "code",
   "execution_count": 26,
   "metadata": {},
   "outputs": [
    {
     "data": {
      "text/plain": [
       "[0.3058653208944533,\n",
       " 0.25158346361584133,\n",
       " 0.18802670968903434,\n",
       " 0.14223303894201914,\n",
       " 0.1321966052055359,\n",
       " 0.11759434226486418,\n",
       " 0.11493670112556881,\n",
       " 0.11335594952106476,\n",
       " 0.11371226691537434,\n",
       " 0.11321881827380922]"
      ]
     },
     "execution_count": 26,
     "metadata": {},
     "output_type": "execute_result"
    }
   ],
   "source": [
    "model_history['val_loss']"
   ]
  },
  {
   "cell_type": "code",
   "execution_count": null,
   "metadata": {},
   "outputs": [],
   "source": []
  }
 ],
 "metadata": {
  "environment": {
   "name": "tf2-gpu.2-1.m59",
   "type": "gcloud",
   "uri": "gcr.io/deeplearning-platform-release/tf2-gpu.2-1:m59"
  },
  "kernelspec": {
   "display_name": "Python 3",
   "language": "python",
   "name": "python3"
  },
  "language_info": {
   "codemirror_mode": {
    "name": "ipython",
    "version": 3
   },
   "file_extension": ".py",
   "mimetype": "text/x-python",
   "name": "python",
   "nbconvert_exporter": "python",
   "pygments_lexer": "ipython3",
   "version": "3.7.8"
  }
 },
 "nbformat": 4,
 "nbformat_minor": 4
}
