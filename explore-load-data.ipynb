{
 "cells": [
  {
   "cell_type": "code",
   "execution_count": 7,
   "metadata": {},
   "outputs": [],
   "source": [
    "\"\"\"\n",
    "see: https://github.com/BLarzalere/LSTM-Autoencoder-for-Anomaly-Detection/blob/master/Sensor%20Anomaly%20Detection.ipynb\n",
    "\"\"\"\n",
    "\n",
    "import os\n",
    "import pandas as pd\n",
    "import numpy as np\n",
    "from sklearn.preprocessing import MinMaxScaler\n",
    "from sklearn.externals import joblib\n",
    "import seaborn as sns\n",
    "sns.set(color_codes=True)\n",
    "import matplotlib.pyplot as plt\n",
    "%matplotlib inline\n",
    "from io import StringIO\n",
    "\n",
    "from numpy.random import seed\n",
    "import tensorflow as tf\n",
    "\n",
    "from tensorflow.keras.layers import Input, Dropout, Dense, LSTM, TimeDistributed, RepeatVector\n",
    "from tensorflow.keras.models import Model\n",
    "from tensorflow.keras import regularizers\n",
    "\n",
    "from google.cloud import storage\n",
    "\n",
    "seed = 100"
   ]
  },
  {
   "cell_type": "code",
   "execution_count": 31,
   "metadata": {},
   "outputs": [
    {
     "name": "stdout",
     "output_type": "stream",
     "text": [
      "982\n"
     ]
    }
   ],
   "source": [
    "#data_dir = \"gs://amazing-public-data/bearing_sensor_data/bearing_sensor_data/\"\n",
    "BUCKET_NAME = \"amazing-public-data\"\n",
    "merged_data = pd.DataFrame()\n",
    "\n",
    "client = storage.Client()\n",
    "prefix = \"bearing_sensor_data/bearing_sensor_data/\"\n",
    "blobs = client.list_blobs(BUCKET_NAME, prefix=prefix)\n",
    "\n",
    "files = []\n",
    "for blob in blobs:\n",
    "    dataset = pd.read_csv(\"gs://{0}/{1}\".format(BUCKET_NAME, blob.name), sep='\\t')\n",
    "    dataset_mean_abs = np.array(dataset.abs().mean())\n",
    "    dataset_mean_abs = pd.DataFrame(dataset_mean_abs.reshape(1, 4))\n",
    "    dataset_mean_abs.index = [blob.name.split(\"/\")[-1]]\n",
    "    merged_data = merged_data.append(dataset_mean_abs)\n",
    "    files.append(blob.name)\n",
    "\n",
    "merged_data.columns = ['bearing-1', 'bearing-2', 'bearing-3', 'bearing-4']\n",
    "print(len(files))"
   ]
  },
  {
   "cell_type": "code",
   "execution_count": 32,
   "metadata": {},
   "outputs": [
    {
     "data": {
      "text/html": [
       "<div>\n",
       "<style scoped>\n",
       "    .dataframe tbody tr th:only-of-type {\n",
       "        vertical-align: middle;\n",
       "    }\n",
       "\n",
       "    .dataframe tbody tr th {\n",
       "        vertical-align: top;\n",
       "    }\n",
       "\n",
       "    .dataframe thead th {\n",
       "        text-align: right;\n",
       "    }\n",
       "</style>\n",
       "<table border=\"1\" class=\"dataframe\">\n",
       "  <thead>\n",
       "    <tr style=\"text-align: right;\">\n",
       "      <th></th>\n",
       "      <th>0</th>\n",
       "      <th>1</th>\n",
       "      <th>2</th>\n",
       "      <th>3</th>\n",
       "    </tr>\n",
       "  </thead>\n",
       "  <tbody>\n",
       "    <tr>\n",
       "      <th>2004.02.12.10.52.39</th>\n",
       "      <td>0.060236</td>\n",
       "      <td>0.074227</td>\n",
       "      <td>0.083926</td>\n",
       "      <td>0.044443</td>\n",
       "    </tr>\n",
       "    <tr>\n",
       "      <th>2004.02.12.11.02.39</th>\n",
       "      <td>0.061455</td>\n",
       "      <td>0.073844</td>\n",
       "      <td>0.084457</td>\n",
       "      <td>0.045081</td>\n",
       "    </tr>\n",
       "    <tr>\n",
       "      <th>2004.02.12.11.12.39</th>\n",
       "      <td>0.061361</td>\n",
       "      <td>0.075609</td>\n",
       "      <td>0.082837</td>\n",
       "      <td>0.045118</td>\n",
       "    </tr>\n",
       "    <tr>\n",
       "      <th>2004.02.12.11.22.39</th>\n",
       "      <td>0.061665</td>\n",
       "      <td>0.073279</td>\n",
       "      <td>0.084879</td>\n",
       "      <td>0.044172</td>\n",
       "    </tr>\n",
       "    <tr>\n",
       "      <th>2004.02.12.11.32.39</th>\n",
       "      <td>0.061944</td>\n",
       "      <td>0.074593</td>\n",
       "      <td>0.082626</td>\n",
       "      <td>0.044659</td>\n",
       "    </tr>\n",
       "  </tbody>\n",
       "</table>\n",
       "</div>"
      ],
      "text/plain": [
       "                            0         1         2         3\n",
       "2004.02.12.10.52.39  0.060236  0.074227  0.083926  0.044443\n",
       "2004.02.12.11.02.39  0.061455  0.073844  0.084457  0.045081\n",
       "2004.02.12.11.12.39  0.061361  0.075609  0.082837  0.045118\n",
       "2004.02.12.11.22.39  0.061665  0.073279  0.084879  0.044172\n",
       "2004.02.12.11.32.39  0.061944  0.074593  0.082626  0.044659"
      ]
     },
     "execution_count": 32,
     "metadata": {},
     "output_type": "execute_result"
    }
   ],
   "source": [
    "merged_data.head()"
   ]
  },
  {
   "cell_type": "code",
   "execution_count": 34,
   "metadata": {},
   "outputs": [
    {
     "name": "stdout",
     "output_type": "stream",
     "text": [
      "Dataset shape: (982, 4)\n"
     ]
    },
    {
     "data": {
      "text/html": [
       "<div>\n",
       "<style scoped>\n",
       "    .dataframe tbody tr th:only-of-type {\n",
       "        vertical-align: middle;\n",
       "    }\n",
       "\n",
       "    .dataframe tbody tr th {\n",
       "        vertical-align: top;\n",
       "    }\n",
       "\n",
       "    .dataframe thead th {\n",
       "        text-align: right;\n",
       "    }\n",
       "</style>\n",
       "<table border=\"1\" class=\"dataframe\">\n",
       "  <thead>\n",
       "    <tr style=\"text-align: right;\">\n",
       "      <th></th>\n",
       "      <th>0</th>\n",
       "      <th>1</th>\n",
       "      <th>2</th>\n",
       "      <th>3</th>\n",
       "    </tr>\n",
       "  </thead>\n",
       "  <tbody>\n",
       "    <tr>\n",
       "      <th>2004-02-12 10:52:39</th>\n",
       "      <td>0.060236</td>\n",
       "      <td>0.074227</td>\n",
       "      <td>0.083926</td>\n",
       "      <td>0.044443</td>\n",
       "    </tr>\n",
       "    <tr>\n",
       "      <th>2004-02-12 11:02:39</th>\n",
       "      <td>0.061455</td>\n",
       "      <td>0.073844</td>\n",
       "      <td>0.084457</td>\n",
       "      <td>0.045081</td>\n",
       "    </tr>\n",
       "    <tr>\n",
       "      <th>2004-02-12 11:12:39</th>\n",
       "      <td>0.061361</td>\n",
       "      <td>0.075609</td>\n",
       "      <td>0.082837</td>\n",
       "      <td>0.045118</td>\n",
       "    </tr>\n",
       "    <tr>\n",
       "      <th>2004-02-12 11:22:39</th>\n",
       "      <td>0.061665</td>\n",
       "      <td>0.073279</td>\n",
       "      <td>0.084879</td>\n",
       "      <td>0.044172</td>\n",
       "    </tr>\n",
       "    <tr>\n",
       "      <th>2004-02-12 11:32:39</th>\n",
       "      <td>0.061944</td>\n",
       "      <td>0.074593</td>\n",
       "      <td>0.082626</td>\n",
       "      <td>0.044659</td>\n",
       "    </tr>\n",
       "  </tbody>\n",
       "</table>\n",
       "</div>"
      ],
      "text/plain": [
       "                            0         1         2         3\n",
       "2004-02-12 10:52:39  0.060236  0.074227  0.083926  0.044443\n",
       "2004-02-12 11:02:39  0.061455  0.073844  0.084457  0.045081\n",
       "2004-02-12 11:12:39  0.061361  0.075609  0.082837  0.045118\n",
       "2004-02-12 11:22:39  0.061665  0.073279  0.084879  0.044172\n",
       "2004-02-12 11:32:39  0.061944  0.074593  0.082626  0.044659"
      ]
     },
     "execution_count": 34,
     "metadata": {},
     "output_type": "execute_result"
    }
   ],
   "source": [
    "# transform data file index to datetime and sort in chronological order\n",
    "merged_data.index = pd.to_datetime(merged_data.index, format='%Y.%m.%d.%H.%M.%S')\n",
    "merged_data = merged_data.sort_index()\n",
    "print(\"Dataset shape:\", merged_data.shape)\n",
    "merged_data.head()"
   ]
  },
  {
   "cell_type": "code",
   "execution_count": 36,
   "metadata": {},
   "outputs": [],
   "source": [
    "# drop the raw_data into a bucket\n",
    "from io import StringIO\n",
    "DEST_FILE_NAME = \"raw_data.csv\"\n",
    "DEST_BUCKET_NAME = \"rrusson-kubeflow-test\"\n",
    "f = StringIO()\n",
    "merged_data.to_csv(f)\n",
    "f.seek(0)\n",
    "client.get_bucket(DEST_BUCKET_NAME).blob(DEST_FILE_NAME).upload_from_file(f, content_type='text/csv')"
   ]
  },
  {
   "cell_type": "code",
   "execution_count": 37,
   "metadata": {},
   "outputs": [
    {
     "name": "stdout",
     "output_type": "stream",
     "text": [
      "mwpmltr\n"
     ]
    }
   ],
   "source": [
    "!(gcloud config get-value core/project)"
   ]
  },
  {
   "cell_type": "code",
   "execution_count": null,
   "metadata": {},
   "outputs": [],
   "source": []
  }
 ],
 "metadata": {
  "environment": {
   "name": "tf2-gpu.2-1.m59",
   "type": "gcloud",
   "uri": "gcr.io/deeplearning-platform-release/tf2-gpu.2-1:m59"
  },
  "kernelspec": {
   "display_name": "Python 3",
   "language": "python",
   "name": "python3"
  },
  "language_info": {
   "codemirror_mode": {
    "name": "ipython",
    "version": 3
   },
   "file_extension": ".py",
   "mimetype": "text/x-python",
   "name": "python",
   "nbconvert_exporter": "python",
   "pygments_lexer": "ipython3",
   "version": "3.7.8"
  }
 },
 "nbformat": 4,
 "nbformat_minor": 4
}
